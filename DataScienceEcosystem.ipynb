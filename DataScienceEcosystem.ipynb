{
 "cells": [
  {
   "cell_type": "markdown",
   "id": "bba92f22-e36f-427e-b563-e6e12a5a75fe",
   "metadata": {},
   "source": [
    "# Data Science Tools and Ecosystem"
   ]
  },
  {
   "cell_type": "markdown",
   "id": "b19aec6f-040c-4169-a18a-0715517474af",
   "metadata": {},
   "source": [
    "## Author\n",
    "Rory Hargaden"
   ]
  },
  {
   "cell_type": "markdown",
   "id": "4940f55e-f82f-417d-92f1-64153f2b1369",
   "metadata": {},
   "source": [
    "In this notebook, Data Science Tools and Ecosystem are summarized"
   ]
  },
  {
   "cell_type": "markdown",
   "id": "91754629-a85a-485c-91c9-853974eafb91",
   "metadata": {},
   "source": [
    "# Objectives\n",
    "\n",
    "- Learn the popular languages in Data Science\n",
    "- Discover commonly used libraries\n",
    "- Explore Data Science tools"
   ]
  },
  {
   "cell_type": "markdown",
   "id": "c218998c-44c2-4fee-86d0-a7117d9f9beb",
   "metadata": {},
   "source": [
    "Some of the popular languages that Data Scientists use are:\n",
    "1. R\n",
    "2. Python\n",
    "3. SQL"
   ]
  },
  {
   "cell_type": "markdown",
   "id": "18237fed-c6da-426f-9500-3c042e81b5c0",
   "metadata": {},
   "source": [
    "Some of the commonly used libraries used by Data Scientists include: \n",
    "1. dpylr\n",
    "2. carat\n",
    "3. ggplot2"
   ]
  },
  {
   "cell_type": "markdown",
   "id": "a0383eb2-f4d3-4d5b-a951-0e1d8f185436",
   "metadata": {},
   "source": [
    "| Data Science Tools |\n",
    "----------------------\n",
    "| MatLab |\n",
    "| Apache Spark |\n",
    "| Tensor Flow |"
   ]
  },
  {
   "cell_type": "markdown",
   "id": "7a4ecd05-ba38-48d0-9506-64ced68bf285",
   "metadata": {},
   "source": [
    "### Below are a few examples of evaluating arithmetic expressions in Python"
   ]
  },
  {
   "cell_type": "markdown",
   "id": "5e69c8a8-3f36-4d33-866d-46d068bfddc9",
   "metadata": {},
   "source": [
    "This a simple arithmetic expression to mutiply then add integers."
   ]
  },
  {
   "cell_type": "code",
   "execution_count": 3,
   "id": "cd178bea-6291-48b5-805c-0568e929399a",
   "metadata": {
    "tags": []
   },
   "outputs": [
    {
     "data": {
      "text/plain": [
       "17"
      ]
     },
     "execution_count": 3,
     "metadata": {},
     "output_type": "execute_result"
    }
   ],
   "source": [
    "(3*4)+5"
   ]
  },
  {
   "cell_type": "markdown",
   "id": "c7bcd6b7-cea1-49d0-84fb-2a6b30eb4d10",
   "metadata": {},
   "source": [
    "this will convert 200 minutes to hours by diving by 60"
   ]
  },
  {
   "cell_type": "code",
   "execution_count": 4,
   "id": "5c80ad0e-11ce-42c0-9b81-d27975a28dea",
   "metadata": {
    "tags": []
   },
   "outputs": [
    {
     "data": {
      "text/plain": [
       "3.3333333333333335"
      ]
     },
     "execution_count": 4,
     "metadata": {},
     "output_type": "execute_result"
    }
   ],
   "source": [
    "200/60"
   ]
  }
 ],
 "metadata": {
  "kernelspec": {
   "display_name": "Python 3 (ipykernel)",
   "language": "python",
   "name": "python3"
  },
  "language_info": {
   "codemirror_mode": {
    "name": "ipython",
    "version": 3
   },
   "file_extension": ".py",
   "mimetype": "text/x-python",
   "name": "python",
   "nbconvert_exporter": "python",
   "pygments_lexer": "ipython3",
   "version": "3.11.5"
  }
 },
 "nbformat": 4,
 "nbformat_minor": 5
}
